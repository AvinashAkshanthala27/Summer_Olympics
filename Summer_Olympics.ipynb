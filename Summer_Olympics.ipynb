{
  "nbformat": 4,
  "nbformat_minor": 0,
  "metadata": {
    "colab": {
      "name": "Summer Olympics.ipynb",
      "provenance": [],
      "collapsed_sections": []
    },
    "kernelspec": {
      "name": "python3",
      "display_name": "Python 3"
    },
    "language_info": {
      "name": "python"
    }
  },
  "cells": [
    {
      "cell_type": "markdown",
      "metadata": {
        "id": "6QExmdAHGsgu"
      },
      "source": [
        "**Summer Olympics Dataset**"
      ]
    },
    {
      "cell_type": "code",
      "metadata": {
        "id": "_DjTsXTqZ82V"
      },
      "source": [
        "import pandas as pd\n",
        "import numpy as np\n",
        "import matplotlib.pyplot as plt"
      ],
      "execution_count": 22,
      "outputs": []
    },
    {
      "cell_type": "markdown",
      "metadata": {
        "id": "8q0pj5N_G4vS"
      },
      "source": [
        "*Reading the CSV File*"
      ]
    },
    {
      "cell_type": "code",
      "metadata": {
        "id": "BFimxl8nzqcf"
      },
      "source": [
        "df = pd.read_csv(\"summer.csv\")"
      ],
      "execution_count": 23,
      "outputs": []
    },
    {
      "cell_type": "code",
      "metadata": {
        "colab": {
          "base_uri": "https://localhost:8080/",
          "height": 414
        },
        "id": "ON0MRI9w0C6v",
        "outputId": "9d258922-df9c-42a1-d3dd-450e8fc0fe0e"
      },
      "source": [
        "df"
      ],
      "execution_count": 24,
      "outputs": [
        {
          "output_type": "execute_result",
          "data": {
            "text/html": [
              "<div>\n",
              "<style scoped>\n",
              "    .dataframe tbody tr th:only-of-type {\n",
              "        vertical-align: middle;\n",
              "    }\n",
              "\n",
              "    .dataframe tbody tr th {\n",
              "        vertical-align: top;\n",
              "    }\n",
              "\n",
              "    .dataframe thead th {\n",
              "        text-align: right;\n",
              "    }\n",
              "</style>\n",
              "<table border=\"1\" class=\"dataframe\">\n",
              "  <thead>\n",
              "    <tr style=\"text-align: right;\">\n",
              "      <th></th>\n",
              "      <th>Year</th>\n",
              "      <th>City</th>\n",
              "      <th>Sport</th>\n",
              "      <th>Discipline</th>\n",
              "      <th>Athlete</th>\n",
              "      <th>Country</th>\n",
              "      <th>Gender</th>\n",
              "      <th>Event</th>\n",
              "      <th>Medal</th>\n",
              "    </tr>\n",
              "  </thead>\n",
              "  <tbody>\n",
              "    <tr>\n",
              "      <th>0</th>\n",
              "      <td>1896</td>\n",
              "      <td>Athens</td>\n",
              "      <td>Aquatics</td>\n",
              "      <td>Swimming</td>\n",
              "      <td>HAJOS, Alfred</td>\n",
              "      <td>HUN</td>\n",
              "      <td>Men</td>\n",
              "      <td>100M Freestyle</td>\n",
              "      <td>Gold</td>\n",
              "    </tr>\n",
              "    <tr>\n",
              "      <th>1</th>\n",
              "      <td>1896</td>\n",
              "      <td>Athens</td>\n",
              "      <td>Aquatics</td>\n",
              "      <td>Swimming</td>\n",
              "      <td>HERSCHMANN, Otto</td>\n",
              "      <td>AUT</td>\n",
              "      <td>Men</td>\n",
              "      <td>100M Freestyle</td>\n",
              "      <td>Silver</td>\n",
              "    </tr>\n",
              "    <tr>\n",
              "      <th>2</th>\n",
              "      <td>1896</td>\n",
              "      <td>Athens</td>\n",
              "      <td>Aquatics</td>\n",
              "      <td>Swimming</td>\n",
              "      <td>DRIVAS, Dimitrios</td>\n",
              "      <td>GRE</td>\n",
              "      <td>Men</td>\n",
              "      <td>100M Freestyle For Sailors</td>\n",
              "      <td>Bronze</td>\n",
              "    </tr>\n",
              "    <tr>\n",
              "      <th>3</th>\n",
              "      <td>1896</td>\n",
              "      <td>Athens</td>\n",
              "      <td>Aquatics</td>\n",
              "      <td>Swimming</td>\n",
              "      <td>MALOKINIS, Ioannis</td>\n",
              "      <td>GRE</td>\n",
              "      <td>Men</td>\n",
              "      <td>100M Freestyle For Sailors</td>\n",
              "      <td>Gold</td>\n",
              "    </tr>\n",
              "    <tr>\n",
              "      <th>4</th>\n",
              "      <td>1896</td>\n",
              "      <td>Athens</td>\n",
              "      <td>Aquatics</td>\n",
              "      <td>Swimming</td>\n",
              "      <td>CHASAPIS, Spiridon</td>\n",
              "      <td>GRE</td>\n",
              "      <td>Men</td>\n",
              "      <td>100M Freestyle For Sailors</td>\n",
              "      <td>Silver</td>\n",
              "    </tr>\n",
              "    <tr>\n",
              "      <th>...</th>\n",
              "      <td>...</td>\n",
              "      <td>...</td>\n",
              "      <td>...</td>\n",
              "      <td>...</td>\n",
              "      <td>...</td>\n",
              "      <td>...</td>\n",
              "      <td>...</td>\n",
              "      <td>...</td>\n",
              "      <td>...</td>\n",
              "    </tr>\n",
              "    <tr>\n",
              "      <th>31160</th>\n",
              "      <td>2012</td>\n",
              "      <td>London</td>\n",
              "      <td>Wrestling</td>\n",
              "      <td>Wrestling Freestyle</td>\n",
              "      <td>JANIKOWSKI, Damian</td>\n",
              "      <td>POL</td>\n",
              "      <td>Men</td>\n",
              "      <td>Wg 84 KG</td>\n",
              "      <td>Bronze</td>\n",
              "    </tr>\n",
              "    <tr>\n",
              "      <th>31161</th>\n",
              "      <td>2012</td>\n",
              "      <td>London</td>\n",
              "      <td>Wrestling</td>\n",
              "      <td>Wrestling Freestyle</td>\n",
              "      <td>REZAEI, Ghasem Gholamreza</td>\n",
              "      <td>IRI</td>\n",
              "      <td>Men</td>\n",
              "      <td>Wg 96 KG</td>\n",
              "      <td>Gold</td>\n",
              "    </tr>\n",
              "    <tr>\n",
              "      <th>31162</th>\n",
              "      <td>2012</td>\n",
              "      <td>London</td>\n",
              "      <td>Wrestling</td>\n",
              "      <td>Wrestling Freestyle</td>\n",
              "      <td>TOTROV, Rustam</td>\n",
              "      <td>RUS</td>\n",
              "      <td>Men</td>\n",
              "      <td>Wg 96 KG</td>\n",
              "      <td>Silver</td>\n",
              "    </tr>\n",
              "    <tr>\n",
              "      <th>31163</th>\n",
              "      <td>2012</td>\n",
              "      <td>London</td>\n",
              "      <td>Wrestling</td>\n",
              "      <td>Wrestling Freestyle</td>\n",
              "      <td>ALEKSANYAN, Artur</td>\n",
              "      <td>ARM</td>\n",
              "      <td>Men</td>\n",
              "      <td>Wg 96 KG</td>\n",
              "      <td>Bronze</td>\n",
              "    </tr>\n",
              "    <tr>\n",
              "      <th>31164</th>\n",
              "      <td>2012</td>\n",
              "      <td>London</td>\n",
              "      <td>Wrestling</td>\n",
              "      <td>Wrestling Freestyle</td>\n",
              "      <td>LIDBERG, Jimmy</td>\n",
              "      <td>SWE</td>\n",
              "      <td>Men</td>\n",
              "      <td>Wg 96 KG</td>\n",
              "      <td>Bronze</td>\n",
              "    </tr>\n",
              "  </tbody>\n",
              "</table>\n",
              "<p>31165 rows × 9 columns</p>\n",
              "</div>"
            ],
            "text/plain": [
              "       Year    City      Sport  ... Gender                       Event   Medal\n",
              "0      1896  Athens   Aquatics  ...    Men              100M Freestyle    Gold\n",
              "1      1896  Athens   Aquatics  ...    Men              100M Freestyle  Silver\n",
              "2      1896  Athens   Aquatics  ...    Men  100M Freestyle For Sailors  Bronze\n",
              "3      1896  Athens   Aquatics  ...    Men  100M Freestyle For Sailors    Gold\n",
              "4      1896  Athens   Aquatics  ...    Men  100M Freestyle For Sailors  Silver\n",
              "...     ...     ...        ...  ...    ...                         ...     ...\n",
              "31160  2012  London  Wrestling  ...    Men                    Wg 84 KG  Bronze\n",
              "31161  2012  London  Wrestling  ...    Men                    Wg 96 KG    Gold\n",
              "31162  2012  London  Wrestling  ...    Men                    Wg 96 KG  Silver\n",
              "31163  2012  London  Wrestling  ...    Men                    Wg 96 KG  Bronze\n",
              "31164  2012  London  Wrestling  ...    Men                    Wg 96 KG  Bronze\n",
              "\n",
              "[31165 rows x 9 columns]"
            ]
          },
          "metadata": {},
          "execution_count": 24
        }
      ]
    },
    {
      "cell_type": "markdown",
      "metadata": {
        "id": "eOIU01ipG-5h"
      },
      "source": [
        "**Showing the First 5 Rows in the dataset**"
      ]
    },
    {
      "cell_type": "code",
      "metadata": {
        "colab": {
          "base_uri": "https://localhost:8080/",
          "height": 202
        },
        "id": "qM9Yb6Hj0KnH",
        "outputId": "f54a9797-e377-41d7-e162-820360daa98a"
      },
      "source": [
        "df.head()"
      ],
      "execution_count": 25,
      "outputs": [
        {
          "output_type": "execute_result",
          "data": {
            "text/html": [
              "<div>\n",
              "<style scoped>\n",
              "    .dataframe tbody tr th:only-of-type {\n",
              "        vertical-align: middle;\n",
              "    }\n",
              "\n",
              "    .dataframe tbody tr th {\n",
              "        vertical-align: top;\n",
              "    }\n",
              "\n",
              "    .dataframe thead th {\n",
              "        text-align: right;\n",
              "    }\n",
              "</style>\n",
              "<table border=\"1\" class=\"dataframe\">\n",
              "  <thead>\n",
              "    <tr style=\"text-align: right;\">\n",
              "      <th></th>\n",
              "      <th>Year</th>\n",
              "      <th>City</th>\n",
              "      <th>Sport</th>\n",
              "      <th>Discipline</th>\n",
              "      <th>Athlete</th>\n",
              "      <th>Country</th>\n",
              "      <th>Gender</th>\n",
              "      <th>Event</th>\n",
              "      <th>Medal</th>\n",
              "    </tr>\n",
              "  </thead>\n",
              "  <tbody>\n",
              "    <tr>\n",
              "      <th>0</th>\n",
              "      <td>1896</td>\n",
              "      <td>Athens</td>\n",
              "      <td>Aquatics</td>\n",
              "      <td>Swimming</td>\n",
              "      <td>HAJOS, Alfred</td>\n",
              "      <td>HUN</td>\n",
              "      <td>Men</td>\n",
              "      <td>100M Freestyle</td>\n",
              "      <td>Gold</td>\n",
              "    </tr>\n",
              "    <tr>\n",
              "      <th>1</th>\n",
              "      <td>1896</td>\n",
              "      <td>Athens</td>\n",
              "      <td>Aquatics</td>\n",
              "      <td>Swimming</td>\n",
              "      <td>HERSCHMANN, Otto</td>\n",
              "      <td>AUT</td>\n",
              "      <td>Men</td>\n",
              "      <td>100M Freestyle</td>\n",
              "      <td>Silver</td>\n",
              "    </tr>\n",
              "    <tr>\n",
              "      <th>2</th>\n",
              "      <td>1896</td>\n",
              "      <td>Athens</td>\n",
              "      <td>Aquatics</td>\n",
              "      <td>Swimming</td>\n",
              "      <td>DRIVAS, Dimitrios</td>\n",
              "      <td>GRE</td>\n",
              "      <td>Men</td>\n",
              "      <td>100M Freestyle For Sailors</td>\n",
              "      <td>Bronze</td>\n",
              "    </tr>\n",
              "    <tr>\n",
              "      <th>3</th>\n",
              "      <td>1896</td>\n",
              "      <td>Athens</td>\n",
              "      <td>Aquatics</td>\n",
              "      <td>Swimming</td>\n",
              "      <td>MALOKINIS, Ioannis</td>\n",
              "      <td>GRE</td>\n",
              "      <td>Men</td>\n",
              "      <td>100M Freestyle For Sailors</td>\n",
              "      <td>Gold</td>\n",
              "    </tr>\n",
              "    <tr>\n",
              "      <th>4</th>\n",
              "      <td>1896</td>\n",
              "      <td>Athens</td>\n",
              "      <td>Aquatics</td>\n",
              "      <td>Swimming</td>\n",
              "      <td>CHASAPIS, Spiridon</td>\n",
              "      <td>GRE</td>\n",
              "      <td>Men</td>\n",
              "      <td>100M Freestyle For Sailors</td>\n",
              "      <td>Silver</td>\n",
              "    </tr>\n",
              "  </tbody>\n",
              "</table>\n",
              "</div>"
            ],
            "text/plain": [
              "   Year    City     Sport  ... Gender                       Event   Medal\n",
              "0  1896  Athens  Aquatics  ...    Men              100M Freestyle    Gold\n",
              "1  1896  Athens  Aquatics  ...    Men              100M Freestyle  Silver\n",
              "2  1896  Athens  Aquatics  ...    Men  100M Freestyle For Sailors  Bronze\n",
              "3  1896  Athens  Aquatics  ...    Men  100M Freestyle For Sailors    Gold\n",
              "4  1896  Athens  Aquatics  ...    Men  100M Freestyle For Sailors  Silver\n",
              "\n",
              "[5 rows x 9 columns]"
            ]
          },
          "metadata": {},
          "execution_count": 25
        }
      ]
    },
    {
      "cell_type": "markdown",
      "metadata": {
        "id": "HY7E11ukKmJR"
      },
      "source": [
        "**1. In how many cities Summer Olympics is held so far?**"
      ]
    },
    {
      "cell_type": "code",
      "metadata": {
        "colab": {
          "base_uri": "https://localhost:8080/",
          "height": 723
        },
        "id": "IpDIXDyh0Nt0",
        "outputId": "17bdfa8c-3142-4bcc-9c72-ad5b46fce611"
      },
      "source": [
        "data=[]\n",
        "\n",
        "for city in df[\"City\"].unique():\n",
        "  data.append((city,len(df[df[\"City\"]==city])))\n",
        "data=pd.DataFrame(data,columns=[\"City\",\"Frequency\"]).sort_values(by=\"Frequency\",ascending=False)\n",
        "\n",
        "data"
      ],
      "execution_count": 26,
      "outputs": [
        {
          "output_type": "execute_result",
          "data": {
            "text/html": [
              "<div>\n",
              "<style scoped>\n",
              "    .dataframe tbody tr th:only-of-type {\n",
              "        vertical-align: middle;\n",
              "    }\n",
              "\n",
              "    .dataframe tbody tr th {\n",
              "        vertical-align: top;\n",
              "    }\n",
              "\n",
              "    .dataframe thead th {\n",
              "        text-align: right;\n",
              "    }\n",
              "</style>\n",
              "<table border=\"1\" class=\"dataframe\">\n",
              "  <thead>\n",
              "    <tr style=\"text-align: right;\">\n",
              "      <th></th>\n",
              "      <th>City</th>\n",
              "      <th>Frequency</th>\n",
              "    </tr>\n",
              "  </thead>\n",
              "  <tbody>\n",
              "    <tr>\n",
              "      <th>3</th>\n",
              "      <td>London</td>\n",
              "      <td>3567</td>\n",
              "    </tr>\n",
              "    <tr>\n",
              "      <th>0</th>\n",
              "      <td>Athens</td>\n",
              "      <td>2149</td>\n",
              "    </tr>\n",
              "    <tr>\n",
              "      <th>7</th>\n",
              "      <td>Los Angeles</td>\n",
              "      <td>2074</td>\n",
              "    </tr>\n",
              "    <tr>\n",
              "      <th>21</th>\n",
              "      <td>Beijing</td>\n",
              "      <td>2042</td>\n",
              "    </tr>\n",
              "    <tr>\n",
              "      <th>20</th>\n",
              "      <td>Sydney</td>\n",
              "      <td>2015</td>\n",
              "    </tr>\n",
              "    <tr>\n",
              "      <th>19</th>\n",
              "      <td>Atlanta</td>\n",
              "      <td>1859</td>\n",
              "    </tr>\n",
              "    <tr>\n",
              "      <th>18</th>\n",
              "      <td>Barcelona</td>\n",
              "      <td>1705</td>\n",
              "    </tr>\n",
              "    <tr>\n",
              "      <th>17</th>\n",
              "      <td>Seoul</td>\n",
              "      <td>1546</td>\n",
              "    </tr>\n",
              "    <tr>\n",
              "      <th>1</th>\n",
              "      <td>Paris</td>\n",
              "      <td>1396</td>\n",
              "    </tr>\n",
              "    <tr>\n",
              "      <th>16</th>\n",
              "      <td>Moscow</td>\n",
              "      <td>1387</td>\n",
              "    </tr>\n",
              "    <tr>\n",
              "      <th>15</th>\n",
              "      <td>Montreal</td>\n",
              "      <td>1305</td>\n",
              "    </tr>\n",
              "    <tr>\n",
              "      <th>5</th>\n",
              "      <td>Antwerp</td>\n",
              "      <td>1298</td>\n",
              "    </tr>\n",
              "    <tr>\n",
              "      <th>14</th>\n",
              "      <td>Munich</td>\n",
              "      <td>1185</td>\n",
              "    </tr>\n",
              "    <tr>\n",
              "      <th>13</th>\n",
              "      <td>Mexico</td>\n",
              "      <td>1031</td>\n",
              "    </tr>\n",
              "    <tr>\n",
              "      <th>12</th>\n",
              "      <td>Tokyo</td>\n",
              "      <td>1010</td>\n",
              "    </tr>\n",
              "    <tr>\n",
              "      <th>9</th>\n",
              "      <td>Helsinki</td>\n",
              "      <td>889</td>\n",
              "    </tr>\n",
              "    <tr>\n",
              "      <th>4</th>\n",
              "      <td>Stockholm</td>\n",
              "      <td>885</td>\n",
              "    </tr>\n",
              "    <tr>\n",
              "      <th>10</th>\n",
              "      <td>Melbourne / Stockholm</td>\n",
              "      <td>885</td>\n",
              "    </tr>\n",
              "    <tr>\n",
              "      <th>11</th>\n",
              "      <td>Rome</td>\n",
              "      <td>882</td>\n",
              "    </tr>\n",
              "    <tr>\n",
              "      <th>8</th>\n",
              "      <td>Berlin</td>\n",
              "      <td>875</td>\n",
              "    </tr>\n",
              "    <tr>\n",
              "      <th>6</th>\n",
              "      <td>Amsterdam</td>\n",
              "      <td>710</td>\n",
              "    </tr>\n",
              "    <tr>\n",
              "      <th>2</th>\n",
              "      <td>St Louis</td>\n",
              "      <td>470</td>\n",
              "    </tr>\n",
              "  </tbody>\n",
              "</table>\n",
              "</div>"
            ],
            "text/plain": [
              "                     City  Frequency\n",
              "3                  London       3567\n",
              "0                  Athens       2149\n",
              "7             Los Angeles       2074\n",
              "21                Beijing       2042\n",
              "20                 Sydney       2015\n",
              "19                Atlanta       1859\n",
              "18              Barcelona       1705\n",
              "17                  Seoul       1546\n",
              "1                   Paris       1396\n",
              "16                 Moscow       1387\n",
              "15               Montreal       1305\n",
              "5                 Antwerp       1298\n",
              "14                 Munich       1185\n",
              "13                 Mexico       1031\n",
              "12                  Tokyo       1010\n",
              "9                Helsinki        889\n",
              "4               Stockholm        885\n",
              "10  Melbourne / Stockholm        885\n",
              "11                   Rome        882\n",
              "8                  Berlin        875\n",
              "6               Amsterdam        710\n",
              "2                St Louis        470"
            ]
          },
          "metadata": {},
          "execution_count": 26
        }
      ]
    },
    {
      "cell_type": "markdown",
      "metadata": {
        "id": "EfrxHqwYLBlU"
      },
      "source": [
        "**2. Which sport is having most number of Gold Medals so far? (Top 5)**"
      ]
    },
    {
      "cell_type": "code",
      "metadata": {
        "colab": {
          "base_uri": "https://localhost:8080/",
          "height": 1000
        },
        "id": "iT-4sZh-LEef",
        "outputId": "9473a1ab-0e7f-4e86-d6f8-acf934da6f22"
      },
      "source": [
        "medal= df[df['Medal'] == 'Gold']\n",
        "sports = []\n",
        "\n",
        "for sport in medal['Sport'].unique():\n",
        "    sports.append([sport,len(medal[medal['Sport'] == sport])])\n",
        "    \n",
        "\n",
        "sports = pd.DataFrame(sports,columns=['Sport','Gold_Medals'])\n",
        "sports = sports.sort_values(by ='Gold_Medals', ascending = False)\n",
        "print(\"*************************************************************************\")\n",
        "print(\"All the Sports with Total no. of Gold Medals they Won are as follows:\")\n",
        "print(\"*************************************************************************\\n\")\n",
        "print(sports)\n",
        "\n",
        "print(\"\\n*************************************************************************\")\n",
        "print(\" 'Athletics' Sport is having most no. Gold Medals so far.\")\n",
        "print(\"*************************************************************************\")\n",
        "print(\"Top 5 Sports having most no. of Gold Medals are :\\n \\n1]Athletics         1339 \\n2] Swimming         1099  \\n3] Rowing           978 \\n4] Gymnastics       791 \\n5] Fencing          594\")\n",
        "print(\"-------------------------------------------------------------------------\")\n",
        "print(\"Plot of Top 5 Sports having most no. of Gold Medals is as Follows:\")\n",
        "print(\"-------------------------------------------------------------------------\")\n",
        "sports = sports.sort_values(by ='Gold_Medals', ascending = False).head()\n",
        "sports.plot(x ='Sport',y ='Gold_Medals',kind = 'bar',figsize =(20,5),color = 'Blue')"
      ],
      "execution_count": 27,
      "outputs": [
        {
          "output_type": "stream",
          "name": "stdout",
          "text": [
            "*************************************************************************\n",
            "All the Sports with Total no. of Gold Medals they Won are as follows:\n",
            "*************************************************************************\n",
            "\n",
            "                Sport  Gold_Medals\n",
            "0            Aquatics         1421\n",
            "1           Athletics         1215\n",
            "17             Rowing          890\n",
            "4          Gymnastics          820\n",
            "3             Fencing          552\n",
            "14           Football          503\n",
            "24             Hockey          486\n",
            "19            Sailing          412\n",
            "8           Wrestling          391\n",
            "5            Shooting          384\n",
            "2             Cycling          371\n",
            "31         Basketball          342\n",
            "32      Canoe / Kayak          334\n",
            "35         Volleyball          332\n",
            "33           Handball          321\n",
            "13         Equestrian          320\n",
            "21             Boxing          239\n",
            "7       Weightlifting          200\n",
            "9             Archery          126\n",
            "34               Judo          123\n",
            "38           Baseball          111\n",
            "6              Tennis           92\n",
            "18              Rugby           78\n",
            "39           Softball           60\n",
            "29  Modern Pentathlon           60\n",
            "37          Badminton           46\n",
            "36       Table Tennis           46\n",
            "20         Tug of War           36\n",
            "40          Taekwondo           32\n",
            "22           Lacrosse           28\n",
            "42              Canoe           27\n",
            "16               Polo           22\n",
            "15               Golf           13\n",
            "11            Cricket           12\n",
            "27            Skating            9\n",
            "41          Triathlon            8\n",
            "30         Ice Hockey            8\n",
            "28  Water Motorsports            5\n",
            "12            Croquet            4\n",
            "26            Rackets            3\n",
            "10      Basque Pelota            2\n",
            "25       Jeu de paume            1\n",
            "23              Roque            1\n",
            "\n",
            "*************************************************************************\n",
            " 'Athletics' Sport is having most no. Gold Medals so far.\n",
            "*************************************************************************\n",
            "Top 5 Sports having most no. of Gold Medals are :\n",
            " \n",
            "1]Athletics         1339 \n",
            "2] Swimming         1099  \n",
            "3] Rowing           978 \n",
            "4] Gymnastics       791 \n",
            "5] Fencing          594\n",
            "-------------------------------------------------------------------------\n",
            "Plot of Top 5 Sports having most no. of Gold Medals is as Follows:\n",
            "-------------------------------------------------------------------------\n"
          ]
        },
        {
          "output_type": "execute_result",
          "data": {
            "text/plain": [
              "<matplotlib.axes._subplots.AxesSubplot at 0x7fa99dd937d0>"
            ]
          },
          "metadata": {},
          "execution_count": 27
        },
        {
          "output_type": "display_data",
          "data": {
            "image/png": "[encoded data removed]",
            "text/plain": [
              "<Figure size 1440x360 with 1 Axes>"
            ]
          },
          "metadata": {
            "needs_background": "light"
          }
        }
      ]
    },
    {
      "cell_type": "markdown",
      "metadata": {
        "id": "-j98a-2DL0rI"
      },
      "source": [
        "**3. Which sport is having most number of medals so far? (Top 5)**"
      ]
    },
    {
      "cell_type": "code",
      "metadata": {
        "colab": {
          "base_uri": "https://localhost:8080/",
          "height": 854
        },
        "id": "p0GUU6XFL4BR",
        "outputId": "a4a1122c-312f-44a9-80ab-ad1c5c4b6f32"
      },
      "source": [
        "print(\"Top 5 Sports having most number of Medals are: \\n\")\n",
        "print(df.groupby('Sport').count()['Medal'].sort_values(ascending = False).head())\n",
        "print(\"\\n\")\n",
        "print(df.groupby('Sport').count()['Medal'].sort_values(ascending = False).head().plot(kind='bar',figsize=(15,10)))"
      ],
      "execution_count": 28,
      "outputs": [
        {
          "output_type": "stream",
          "name": "stdout",
          "text": [
            "Top 5 Sports having most number of Medals are: \n",
            "\n",
            "Sport\n",
            "Aquatics      4170\n",
            "Athletics     3638\n",
            "Rowing        2667\n",
            "Gymnastics    2307\n",
            "Fencing       1613\n",
            "Name: Medal, dtype: int64\n",
            "\n",
            "\n",
            "AxesSubplot(0.125,0.125;0.775x0.755)\n"
          ]
        },
        {
          "output_type": "display_data",
          "data": {
            "image/png": "[encoded data removed]",
            "text/plain": [
              "<Figure size 1080x720 with 1 Axes>"
            ]
          },
          "metadata": {
            "needs_background": "light"
          }
        }
      ]
    },
    {
      "cell_type": "markdown",
      "metadata": {
        "id": "cVOexAtyM7EO"
      },
      "source": [
        "**4. Which player has won most number of medals? (Top 5)**"
      ]
    },
    {
      "cell_type": "code",
      "metadata": {
        "colab": {
          "base_uri": "https://localhost:8080/",
          "height": 586
        },
        "id": "uG-e5jpEM9vg",
        "outputId": "e8d94127-b494-4f68-e506-318129d30252"
      },
      "source": [
        "print(\"Top 5 Athletes having most number of Medals are: \\n\")\n",
        "print(df.groupby('Athlete').count()['Medal'].sort_values(ascending = False).head())\n",
        "print(\"\\n\")\n",
        "print(df.groupby('Athlete').count()['Medal'].sort_values(ascending = False).head().plot(kind='bar',figsize=(8,4)))"
      ],
      "execution_count": 29,
      "outputs": [
        {
          "output_type": "stream",
          "name": "stdout",
          "text": [
            "Top 5 Athletes having most number of Medals are: \n",
            "\n",
            "Athlete\n",
            "PHELPS, Michael         22\n",
            "LATYNINA, Larisa        18\n",
            "ANDRIANOV, Nikolay      15\n",
            "MANGIAROTTI, Edoardo    13\n",
            "SHAKHLIN, Boris         13\n",
            "Name: Medal, dtype: int64\n",
            "\n",
            "\n",
            "AxesSubplot(0.125,0.125;0.775x0.755)\n"
          ]
        },
        {
          "output_type": "display_data",
          "data": {
            "image/png": "[encoded data removed]",
            "text/plain": [
              "<Figure size 576x288 with 1 Axes>"
            ]
          },
          "metadata": {
            "needs_background": "light"
          }
        }
      ]
    },
    {
      "cell_type": "markdown",
      "metadata": {
        "id": "zyJv0bGeNb9i"
      },
      "source": [
        "**5. Which player has won most number Gold Medals of medals? (Top 5)**"
      ]
    },
    {
      "cell_type": "code",
      "metadata": {
        "colab": {
          "base_uri": "https://localhost:8080/",
          "height": 558
        },
        "id": "s1tQ7_GXNeTu",
        "outputId": "1bbcafa2-3b1b-4ad6-d21a-6febf51699c2"
      },
      "source": [
        "data = []\n",
        "\n",
        "for athlete in df['Athlete'].unique():\n",
        "    data.append([athlete , len(df[(df['Athlete'] == athlete) & (df['Medal'] == \"Gold\")])])\n",
        "\n",
        "plot_data = pd.DataFrame(data,columns = ['Athlete','No. of gold medals']).sort_values(by='No. of gold medals', ascending=False).head()\n",
        "\n",
        "print(\"----------Top-5 Players having most number of Gold Medals------------\\n\")\n",
        "print(plot_data)\n",
        "plot_data.plot(x = 'Athlete', y = 'No. of gold medals', kind = 'bar', figsize = (10,5))"
      ],
      "execution_count": 30,
      "outputs": [
        {
          "output_type": "stream",
          "name": "stdout",
          "text": [
            "----------Top-5 Players having most number of Gold Medals------------\n",
            "\n",
            "                Athlete  No. of gold medals\n",
            "18640   PHELPS, Michael                  18\n",
            "12468       LEWIS, Carl                   9\n",
            "8811        SPITZ, Mark                   9\n",
            "2262       NURMI, Paavo                   9\n",
            "7197   LATYNINA, Larisa                   9\n"
          ]
        },
        {
          "output_type": "execute_result",
          "data": {
            "text/plain": [
              "<matplotlib.axes._subplots.AxesSubplot at 0x7fa99d90ee90>"
            ]
          },
          "metadata": {},
          "execution_count": 30
        },
        {
          "output_type": "display_data",
          "data": {
            "image/png": "[encoded data removed]",
            "text/plain": [
              "<Figure size 720x360 with 1 Axes>"
            ]
          },
          "metadata": {
            "needs_background": "light"
          }
        }
      ]
    },
    {
      "cell_type": "markdown",
      "metadata": {
        "id": "ZdO-1c7uOgXU"
      },
      "source": [
        "**6. In which year India won first Gold Medal in Summer Olympics?**"
      ]
    },
    {
      "cell_type": "code",
      "metadata": {
        "colab": {
          "base_uri": "https://localhost:8080/"
        },
        "id": "UOaAI3zWOyB6",
        "outputId": "13427d33-1bcd-4f16-9f07-e60bd324dca5"
      },
      "source": [
        "# creating a dataframe of gold medals\n",
        "gold = df[df['Medal'] == 'Gold']\n",
        "# calling the gold dataframe and country as India\n",
        "gold = gold[gold['Country']=='IND'].head()\n",
        "gold\n",
        "ans = gold[gold['Country']=='IND']['Year'].min()\n",
        "print(\"=======================================================\")\n",
        "print(f\"In the year {ans} India won its First Gold Medal\")\n",
        "print(\"=======================================================\")"
      ],
      "execution_count": 31,
      "outputs": [
        {
          "output_type": "stream",
          "name": "stdout",
          "text": [
            "=======================================================\n",
            "In the year 1928 India won its First Gold Medal\n",
            "=======================================================\n"
          ]
        }
      ]
    },
    {
      "cell_type": "markdown",
      "metadata": {
        "id": "VMttaLFAPMgu"
      },
      "source": [
        "**7. Which event is most popular in terms on number of players? (Top 5)**"
      ]
    },
    {
      "cell_type": "code",
      "metadata": {
        "colab": {
          "base_uri": "https://localhost:8080/",
          "height": 558
        },
        "id": "5J4Q-y02PN0t",
        "outputId": "1f85b510-3a57-4527-c63b-b9794bf67e10"
      },
      "source": [
        "print(\"Top 5 Most Popular Events in terms of Number of Players are: \\n\")\n",
        "print(df.groupby('Event').count()['Athlete'].sort_values(ascending = False).head())\n",
        "print(\"\\n\")\n",
        "print(df.groupby('Event').count()['Athlete'].sort_values(ascending = False).head().plot(kind='bar',figsize=(8,4)))"
      ],
      "execution_count": 32,
      "outputs": [
        {
          "output_type": "stream",
          "name": "stdout",
          "text": [
            "Top 5 Most Popular Events in terms of Number of Players are: \n",
            "\n",
            "Event\n",
            "Football            1497\n",
            "Hockey              1422\n",
            "Team Competition    1147\n",
            "Basketball          1012\n",
            "Handball             973\n",
            "Name: Athlete, dtype: int64\n",
            "\n",
            "\n",
            "AxesSubplot(0.125,0.125;0.775x0.755)\n"
          ]
        },
        {
          "output_type": "display_data",
          "data": {
            "image/png": "[encoded data removed]",
            "text/plain": [
              "<Figure size 576x288 with 1 Axes>"
            ]
          },
          "metadata": {
            "needs_background": "light"
          }
        }
      ]
    },
    {
      "cell_type": "markdown",
      "metadata": {
        "id": "YxWIhlLJQDY0"
      },
      "source": [
        "**8. Which sport is having most female Gold Medalists? (Top 5)**"
      ]
    },
    {
      "cell_type": "code",
      "metadata": {
        "colab": {
          "base_uri": "https://localhost:8080/",
          "height": 202
        },
        "id": "JztTdddgQmaO",
        "outputId": "ae131230-118b-492b-a54c-877373dd3d6c"
      },
      "source": [
        "women = df[df['Gender'] == 'Women']\n",
        "women = women[women['Medal'] == 'Gold'].head()\n",
        "women\n",
        "\n",
        "# dataframe creation where gender is women\n",
        "women = df[df['Gender']=='Women']\n",
        "data = []       # empty list\n",
        "\n",
        "# using for loop and women dataframe calculating length\n",
        "for sport in women['Sport'].unique():\n",
        "  data.append([sport, len(women[women['Sport'] == sport])])    #appending empty list with length calculated\n",
        "\n",
        "data = pd.DataFrame(data, columns=['Sport', 'No. of Female Gold Medalists']).sort_values(by='No. of Female Gold Medalists', ascending=False).head()\n",
        "data"
      ],
      "execution_count": 20,
      "outputs": [
        {
          "output_type": "execute_result",
          "data": {
            "text/html": [
              "<div>\n",
              "<style scoped>\n",
              "    .dataframe tbody tr th:only-of-type {\n",
              "        vertical-align: middle;\n",
              "    }\n",
              "\n",
              "    .dataframe tbody tr th {\n",
              "        vertical-align: top;\n",
              "    }\n",
              "\n",
              "    .dataframe thead th {\n",
              "        text-align: right;\n",
              "    }\n",
              "</style>\n",
              "<table border=\"1\" class=\"dataframe\">\n",
              "  <thead>\n",
              "    <tr style=\"text-align: right;\">\n",
              "      <th></th>\n",
              "      <th>Sport</th>\n",
              "      <th>No. of Female Gold Medalists</th>\n",
              "    </tr>\n",
              "  </thead>\n",
              "  <tbody>\n",
              "    <tr>\n",
              "      <th>4</th>\n",
              "      <td>Aquatics</td>\n",
              "      <td>1726</td>\n",
              "    </tr>\n",
              "    <tr>\n",
              "      <th>8</th>\n",
              "      <td>Athletics</td>\n",
              "      <td>1163</td>\n",
              "    </tr>\n",
              "    <tr>\n",
              "      <th>9</th>\n",
              "      <td>Gymnastics</td>\n",
              "      <td>799</td>\n",
              "    </tr>\n",
              "    <tr>\n",
              "      <th>14</th>\n",
              "      <td>Rowing</td>\n",
              "      <td>651</td>\n",
              "    </tr>\n",
              "    <tr>\n",
              "      <th>11</th>\n",
              "      <td>Volleyball</td>\n",
              "      <td>497</td>\n",
              "    </tr>\n",
              "  </tbody>\n",
              "</table>\n",
              "</div>"
            ],
            "text/plain": [
              "         Sport  No. of Female Gold Medalists\n",
              "4     Aquatics                          1726\n",
              "8    Athletics                          1163\n",
              "9   Gymnastics                           799\n",
              "14      Rowing                           651\n",
              "11  Volleyball                           497"
            ]
          },
          "metadata": {},
          "execution_count": 20
        }
      ]
    },
    {
      "cell_type": "code",
      "metadata": {
        "colab": {
          "base_uri": "https://localhost:8080/",
          "height": 534
        },
        "id": "9fFYcGLxQtgs",
        "outputId": "af6b0f96-a899-422f-fdd2-1ee80bd42894"
      },
      "source": [
        "\n",
        "data = pd.DataFrame(data, columns = ['Sport','No. of Female Gold Medalists']).sort_values(by='No. of Female Gold Medalists', ascending=False).head()\n",
        "\n",
        "# plotting the graph and applyling colors to the x and y axis labels and values\n",
        "data.plot.bar(x = 'Sport' , y = 'No. of Female Gold Medalists',figsize=(12,6), color = '#6e4177')\n",
        "\n",
        "plt.xticks(fontsize = 15, color = 'red')\n",
        "plt.xlabel(\"Sports\",fontsize = 18, color = 'blue')\n",
        "\n",
        "plt.yticks(fontsize = 14, color = 'green')\n",
        "plt.ylabel(\"Number of Female Gold Medalists\", fontsize = 18)\n",
        "\n",
        "plt.title(\"Sport having most Female Gold Medalists\", fontsize = 20, color = '#e85e31', fontweight='bold')\n",
        "plt.show()"
      ],
      "execution_count": 33,
      "outputs": [
        {
          "output_type": "display_data",
          "data": {
            "image/png": "[encoded data removed]",
            "text/plain": [
              "<Figure size 864x432 with 1 Axes>"
            ]
          },
          "metadata": {
            "needs_background": "light"
          }
        }
      ]
    }
  ]
}